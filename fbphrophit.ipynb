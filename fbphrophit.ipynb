{
  "nbformat": 4,
  "nbformat_minor": 0,
  "metadata": {
    "colab": {
      "name": "fbphrophit.ipynb",
      "provenance": [],
      "authorship_tag": "ABX9TyOluGgtCr+nuioACUPxXRYU",
      "include_colab_link": true
    },
    "kernelspec": {
      "name": "python3",
      "display_name": "Python 3"
    },
    "language_info": {
      "name": "python"
    }
  },
  "cells": [
    {
      "cell_type": "markdown",
      "metadata": {
        "id": "view-in-github",
        "colab_type": "text"
      },
      "source": [
        "<a href=\"https://colab.research.google.com/github/bommojuvishu/facebook-prophet-stock/blob/main/fbphrophit.ipynb\" target=\"_parent\"><img src=\"https://colab.research.google.com/assets/colab-badge.svg\" alt=\"Open In Colab\"/></a>"
      ]
    },
    {
      "cell_type": "code",
      "execution_count": 1,
      "metadata": {
        "colab": {
          "base_uri": "https://localhost:8080/"
        },
        "id": "VJW1r-LVwLp8",
        "outputId": "470ff4ce-9006-4539-a1c8-d392308ac157"
      },
      "outputs": [
        {
          "output_type": "stream",
          "name": "stdout",
          "text": [
            "Collecting yfinance\n",
            "  Downloading yfinance-0.1.68-py2.py3-none-any.whl (26 kB)\n",
            "Requirement already satisfied: numpy>=1.15 in /usr/local/lib/python3.7/dist-packages (from yfinance) (1.19.5)\n",
            "Requirement already satisfied: pandas>=0.24 in /usr/local/lib/python3.7/dist-packages (from yfinance) (1.1.5)\n",
            "Collecting requests>=2.26\n",
            "  Downloading requests-2.27.1-py2.py3-none-any.whl (63 kB)\n",
            "\u001b[K     |████████████████████████████████| 63 kB 1.3 MB/s \n",
            "\u001b[?25hCollecting lxml>=4.5.1\n",
            "  Downloading lxml-4.7.1-cp37-cp37m-manylinux_2_17_x86_64.manylinux2014_x86_64.manylinux_2_24_x86_64.whl (6.4 MB)\n",
            "\u001b[K     |████████████████████████████████| 6.4 MB 11.5 MB/s \n",
            "\u001b[?25hRequirement already satisfied: multitasking>=0.0.7 in /usr/local/lib/python3.7/dist-packages (from yfinance) (0.0.10)\n",
            "Requirement already satisfied: pytz>=2017.2 in /usr/local/lib/python3.7/dist-packages (from pandas>=0.24->yfinance) (2018.9)\n",
            "Requirement already satisfied: python-dateutil>=2.7.3 in /usr/local/lib/python3.7/dist-packages (from pandas>=0.24->yfinance) (2.8.2)\n",
            "Requirement already satisfied: six>=1.5 in /usr/local/lib/python3.7/dist-packages (from python-dateutil>=2.7.3->pandas>=0.24->yfinance) (1.15.0)\n",
            "Requirement already satisfied: certifi>=2017.4.17 in /usr/local/lib/python3.7/dist-packages (from requests>=2.26->yfinance) (2021.10.8)\n",
            "Requirement already satisfied: idna<4,>=2.5 in /usr/local/lib/python3.7/dist-packages (from requests>=2.26->yfinance) (2.10)\n",
            "Requirement already satisfied: charset-normalizer~=2.0.0 in /usr/local/lib/python3.7/dist-packages (from requests>=2.26->yfinance) (2.0.9)\n",
            "Requirement already satisfied: urllib3<1.27,>=1.21.1 in /usr/local/lib/python3.7/dist-packages (from requests>=2.26->yfinance) (1.24.3)\n",
            "Installing collected packages: requests, lxml, yfinance\n",
            "  Attempting uninstall: requests\n",
            "    Found existing installation: requests 2.23.0\n",
            "    Uninstalling requests-2.23.0:\n",
            "      Successfully uninstalled requests-2.23.0\n",
            "  Attempting uninstall: lxml\n",
            "    Found existing installation: lxml 4.2.6\n",
            "    Uninstalling lxml-4.2.6:\n",
            "      Successfully uninstalled lxml-4.2.6\n",
            "\u001b[31mERROR: pip's dependency resolver does not currently take into account all the packages that are installed. This behaviour is the source of the following dependency conflicts.\n",
            "google-colab 1.0.0 requires requests~=2.23.0, but you have requests 2.27.1 which is incompatible.\n",
            "datascience 0.10.6 requires folium==0.2.1, but you have folium 0.8.3 which is incompatible.\u001b[0m\n",
            "Successfully installed lxml-4.7.1 requests-2.27.1 yfinance-0.1.68\n"
          ]
        }
      ],
      "source": [
        "!pip install yfinance\n"
      ]
    },
    {
      "cell_type": "code",
      "source": [
        "from datetime import date\n",
        "import yfinance as yf\n",
        "from fbprophet import Prophet"
      ],
      "metadata": {
        "id": "JW_IeiLMDjnR"
      },
      "execution_count": 3,
      "outputs": []
    },
    {
      "cell_type": "code",
      "source": [
        "def load_data(ticker):\n",
        "    data = yf.download(ticker, START, TODAY)\n",
        "    data.reset_index(inplace=True)\n",
        "    return data"
      ],
      "metadata": {
        "id": "JHVYcZQSDv1I"
      },
      "execution_count": 2,
      "outputs": []
    },
    {
      "cell_type": "code",
      "source": [
        "def cal_percentage(data):\n",
        "  x= data['trend'].tolist()\n",
        "  print(x)\n",
        "  y = x[-1] -x[0]\n",
        "  y=y/x[0]\n",
        "  y = y *100\n",
        "  return y"
      ],
      "metadata": {
        "id": "EzoW__D17JDs"
      },
      "execution_count": 66,
      "outputs": []
    },
    {
      "cell_type": "code",
      "source": [
        "\n",
        "import pandas as pd\n",
        "from google.colab import files\n",
        "uploaded = files.upload()"
      ],
      "metadata": {
        "colab": {
          "resources": {
            "http://localhost:8080/nbextensions/google.colab/files.js": {
              "data": "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",
              "ok": true,
              "headers": [
                [
                  "content-type",
                  "application/javascript"
                ]
              ],
              "status": 200,
              "status_text": ""
            }
          },
          "base_uri": "https://localhost:8080/",
          "height": 73
        },
        "id": "yhv1xn4XANx6",
        "outputId": "2c4e9783-961e-43e7-847d-32c243dca1cc"
      },
      "execution_count": 68,
      "outputs": [
        {
          "output_type": "display_data",
          "data": {
            "text/html": [
              "\n",
              "     <input type=\"file\" id=\"files-3a48343a-dc6b-47d6-a25a-a06ee0245873\" name=\"files[]\" multiple disabled\n",
              "        style=\"border:none\" />\n",
              "     <output id=\"result-3a48343a-dc6b-47d6-a25a-a06ee0245873\">\n",
              "      Upload widget is only available when the cell has been executed in the\n",
              "      current browser session. Please rerun this cell to enable.\n",
              "      </output>\n",
              "      <script src=\"/nbextensions/google.colab/files.js\"></script> "
            ],
            "text/plain": [
              "<IPython.core.display.HTML object>"
            ]
          },
          "metadata": {}
        },
        {
          "output_type": "stream",
          "name": "stdout",
          "text": [
            "Saving nifty500.csv to nifty500.csv\n"
          ]
        }
      ]
    },
    {
      "cell_type": "code",
      "source": [
        "import io\n",
        "  \n",
        "df = pd.read_csv(io.BytesIO(uploaded['nifty500.csv']))\n",
        "print(df)"
      ],
      "metadata": {
        "colab": {
          "base_uri": "https://localhost:8080/"
        },
        "id": "wsbSLgsmBVpe",
        "outputId": "29f47008-c0b3-49a3-db65-b39c44076809"
      },
      "execution_count": 69,
      "outputs": [
        {
          "output_type": "stream",
          "name": "stdout",
          "text": [
            "        3MINDIA\n",
            "0           ABB\n",
            "1           ACC\n",
            "2        AIAENG\n",
            "3     APLAPOLLO\n",
            "4        AUBANK\n",
            "..          ...\n",
            "495     YESBANK\n",
            "496        ZEEL\n",
            "497  ZENSARTECH\n",
            "498   ZYDUSWELL\n",
            "499      ECLERX\n",
            "\n",
            "[500 rows x 1 columns]\n"
          ]
        }
      ]
    },
    {
      "cell_type": "code",
      "source": [
        "START = \"2015-01-01\"\n",
        "TODAY = \"2022-01-01\"\n",
        "# TODAY = date.today().strftime(\"%Y-%m-%d\")\n",
        "period = 7\n",
        "result={}\n",
        "error_stocks=[]\n",
        "# stocks = ('TTML.NS','HGS.NS')\n",
        "stocks = df['3MINDIA'].tolist()\n",
        "for stock in stocks:\n",
        "  try:\n",
        "    data = load_data(stock +\".NS\")\n",
        "    df_train = data[['Date','Close']]\n",
        "    df_train = df_train.rename(columns={\"Date\": \"ds\", \"Close\": \"y\"})\n",
        "    df_train.tail()\n",
        "    data_rows = data.shape[0]\n",
        "    m = Prophet()\n",
        "    m.fit(df_train)\n",
        "    future = m.make_future_dataframe(periods=period)\n",
        "    forecast = m.predict(future)\n",
        "    predict_rows = forecast.shape[0]\n",
        "    forecasted = forecast.tail(predict_rows - data_rows)\n",
        "    # x= forecasted['trend'].tolist()\n",
        "    # x[-1]\n",
        "    print(stock , cal_percentage(forecasted))\n",
        "    result[stock] =cal_percentage(forecasted)\n",
        "  except:\n",
        "    print(\"ERROR :\", stock)\n",
        "    error_stocks.append(stock)\n"
      ],
      "metadata": {
        "colab": {
          "base_uri": "https://localhost:8080/"
        },
        "id": "b9Wi8iuhD0Bk",
        "outputId": "a22515a7-9d8c-43c0-ceeb-7a9904fbc014"
      },
      "execution_count": null,
      "outputs": [
        {
          "output_type": "stream",
          "name": "stdout",
          "text": [
            "\r[*********************100%***********************]  1 of 1 completed"
          ]
        },
        {
          "output_type": "stream",
          "name": "stderr",
          "text": [
            "INFO:fbprophet:Disabling daily seasonality. Run prophet with daily_seasonality=True to override this.\n"
          ]
        },
        {
          "output_type": "stream",
          "name": "stdout",
          "text": [
            "\n",
            "[2172.761493778493, 2175.37334921238, 2177.98520464627, 2180.597060080159, 2183.2089155140475, 2185.8207709479348, 2188.432626381825]\n",
            "ABB 0.7212541573571134\n",
            "[2172.761493778493, 2175.37334921238, 2177.98520464627, 2180.597060080159, 2183.2089155140475, 2185.8207709479348, 2188.432626381825]\n",
            "[*********************100%***********************]  1 of 1 completed\n"
          ]
        },
        {
          "output_type": "stream",
          "name": "stderr",
          "text": [
            "INFO:fbprophet:Disabling daily seasonality. Run prophet with daily_seasonality=True to override this.\n"
          ]
        },
        {
          "output_type": "stream",
          "name": "stdout",
          "text": [
            "[2481.6493120482464, 2483.821046179848, 2485.9927803114497, 2488.1645144430513, 2490.336248574654, 2492.5079827062546, 2494.6797168378557]\n",
            "ACC 0.5250703524606609\n",
            "[2481.6493120482464, 2483.821046179848, 2485.9927803114497, 2488.1645144430513, 2490.336248574654, 2492.5079827062546, 2494.6797168378557]\n",
            "\r[*********************100%***********************]  1 of 1 completed\n"
          ]
        },
        {
          "output_type": "stream",
          "name": "stderr",
          "text": [
            "INFO:fbprophet:Disabling daily seasonality. Run prophet with daily_seasonality=True to override this.\n"
          ]
        },
        {
          "output_type": "stream",
          "name": "stdout",
          "text": [
            "[2033.789731764897, 2034.3383465723355, 2034.886961379775, 2035.4355761872139, 2035.9841909946533, 2036.5328058020923, 2037.0814206095313]\n",
            "AIAENG 0.16185000805259503\n",
            "[2033.789731764897, 2034.3383465723355, 2034.886961379775, 2035.4355761872139, 2035.9841909946533, 2036.5328058020923, 2037.0814206095313]\n",
            "\r[*********************100%***********************]  1 of 1 completed\n"
          ]
        },
        {
          "output_type": "stream",
          "name": "stderr",
          "text": [
            "INFO:fbprophet:Disabling daily seasonality. Run prophet with daily_seasonality=True to override this.\n"
          ]
        },
        {
          "output_type": "stream",
          "name": "stdout",
          "text": [
            "[1032.8837114956139, 1034.5129128255705, 1036.1421141555281, 1037.7713154854857, 1039.4005168154436, 1041.0297181454002, 1042.6589194753578]\n",
            "APLAPOLLO 0.946399664449108\n",
            "[1032.8837114956139, 1034.5129128255705, 1036.1421141555281, 1037.7713154854857, 1039.4005168154436, 1041.0297181454002, 1042.6589194753578]\n",
            "\r[*********************100%***********************]  1 of 1 completed\n"
          ]
        },
        {
          "output_type": "stream",
          "name": "stderr",
          "text": [
            "INFO:fbprophet:Disabling daily seasonality. Run prophet with daily_seasonality=True to override this.\n"
          ]
        },
        {
          "output_type": "stream",
          "name": "stdout",
          "text": [
            "[1244.3745515911319, 1245.139799011883, 1245.905046432634, 1246.670293853385, 1247.435541274136, 1248.2007886948873, 1248.9660361156384]\n",
            "AUBANK 0.36897930117870004\n",
            "[1244.3745515911319, 1245.139799011883, 1245.905046432634, 1246.670293853385, 1247.435541274136, 1248.2007886948873, 1248.9660361156384]\n",
            "\r[*********************100%***********************]  1 of 1 completed\n"
          ]
        },
        {
          "output_type": "stream",
          "name": "stderr",
          "text": [
            "INFO:fbprophet:Disabling daily seasonality. Run prophet with daily_seasonality=True to override this.\n"
          ]
        },
        {
          "output_type": "stream",
          "name": "stdout",
          "text": [
            "[643.3071869841023, 643.2099124703229, 643.1126379565437, 643.0153634427644, 642.9180889289852, 642.8208144152059, 642.7235399014266]\n",
            "AARTIDRUGS -0.09072603174415252\n",
            "[643.3071869841023, 643.2099124703229, 643.1126379565437, 643.0153634427644, 642.9180889289852, 642.8208144152059, 642.7235399014266]\n",
            "[*********************100%***********************]  1 of 1 completed"
          ]
        },
        {
          "output_type": "stream",
          "name": "stderr",
          "text": [
            "INFO:fbprophet:Disabling daily seasonality. Run prophet with daily_seasonality=True to override this.\n"
          ]
        },
        {
          "output_type": "stream",
          "name": "stdout",
          "text": [
            "\n",
            "[1048.4726963541896, 1049.6157866403787, 1050.7588769265685, 1051.9019672127583, 1053.0450574989482, 1054.1881477851375, 1055.331238071327]\n",
            "AARTIIND 0.6541459535366503\n",
            "[1048.4726963541896, 1049.6157866403787, 1050.7588769265685, 1051.9019672127583, 1053.0450574989482, 1054.1881477851375, 1055.331238071327]\n",
            "[*********************100%***********************]  1 of 1 completed\n"
          ]
        },
        {
          "output_type": "stream",
          "name": "stderr",
          "text": [
            "INFO:fbprophet:Disabling daily seasonality. Run prophet with daily_seasonality=True to override this.\n"
          ]
        },
        {
          "output_type": "stream",
          "name": "stdout",
          "text": [
            "[2854.6162926947554, 2856.8444923152206, 2859.0726919356853, 2861.300891556152, 2863.529091176617, 2865.757290797083, 2867.9854904175486]\n",
            "AAVAS 0.4683360687391246\n",
            "[2854.6162926947554, 2856.8444923152206, 2859.0726919356853, 2861.300891556152, 2863.529091176617, 2865.757290797083, 2867.9854904175486]\n",
            "\r[*********************100%***********************]  1 of 1 completed\n"
          ]
        },
        {
          "output_type": "stream",
          "name": "stderr",
          "text": [
            "INFO:fbprophet:Disabling daily seasonality. Run prophet with daily_seasonality=True to override this.\n"
          ]
        },
        {
          "output_type": "stream",
          "name": "stdout",
          "text": [
            "[19268.247410870936, 19277.285070892136, 19286.322730913336, 19295.36039093454, 19304.398050955744, 19313.43571097694, 19322.47337099815]\n",
            "ABBOTINDIA 0.28142653024383996\n",
            "[19268.247410870936, 19277.285070892136, 19286.322730913336, 19295.36039093454, 19304.398050955744, 19313.43571097694, 19322.47337099815]\n",
            "[*********************100%***********************]  1 of 1 completed"
          ]
        },
        {
          "output_type": "stream",
          "name": "stderr",
          "text": [
            "INFO:fbprophet:Disabling daily seasonality. Run prophet with daily_seasonality=True to override this.\n"
          ]
        },
        {
          "output_type": "stream",
          "name": "stdout",
          "text": [
            "\n",
            "[1891.4419047725955, 1894.8636645526453, 1898.2854243326954, 1901.7071841127452, 1905.1289438927968, 1908.550703672845, 1911.972463452895]\n",
            "ADANIENT 1.0854448465213535\n",
            "[1891.4419047725955, 1894.8636645526453, 1898.2854243326954, 1901.7071841127452, 1905.1289438927968, 1908.550703672845, 1911.972463452895]\n",
            "[*********************100%***********************]  1 of 1 completed\n"
          ]
        },
        {
          "output_type": "stream",
          "name": "stderr",
          "text": [
            "INFO:fbprophet:Disabling daily seasonality. Run prophet with daily_seasonality=True to override this.\n"
          ]
        },
        {
          "output_type": "stream",
          "name": "stdout",
          "text": [
            "[1275.5481605014445, 1276.1514410325708, 1276.754721563697, 1277.3580020948234, 1277.9612826259497, 1278.564563157076, 1279.1678436882023]\n",
            "ADANIGREEN 0.28377471732112713\n",
            "[1275.5481605014445, 1276.1514410325708, 1276.754721563697, 1277.3580020948234, 1277.9612826259497, 1278.564563157076, 1279.1678436882023]\n",
            "\r[*********************100%***********************]  1 of 1 completed\n"
          ]
        },
        {
          "output_type": "stream",
          "name": "stderr",
          "text": [
            "INFO:fbprophet:Disabling daily seasonality. Run prophet with daily_seasonality=True to override this.\n"
          ]
        },
        {
          "output_type": "stream",
          "name": "stdout",
          "text": [
            "[861.823272626891, 862.8003222148526, 863.7773718028146, 864.754421390777, 865.731470978739, 866.7085205667006, 867.6855701546631]\n",
            "ADANIPORTS 0.68022037858219\n",
            "[861.823272626891, 862.8003222148526, 863.7773718028146, 864.754421390777, 865.731470978739, 866.7085205667006, 867.6855701546631]\n",
            "\r[*********************100%***********************]  1 of 1 completed\n"
          ]
        },
        {
          "output_type": "stream",
          "name": "stderr",
          "text": [
            "INFO:fbprophet:Disabling daily seasonality. Run prophet with daily_seasonality=True to override this.\n"
          ]
        },
        {
          "output_type": "stream",
          "name": "stdout",
          "text": [
            "[1702.0955495434437, 1704.9197556862082, 1707.7439618289725, 1710.5681679717366, 1713.3923741145004, 1716.2165802572647, 1719.0407864000292]\n",
            "ATGL 0.9955514460472449\n",
            "[1702.0955495434437, 1704.9197556862082, 1707.7439618289725, 1710.5681679717366, 1713.3923741145004, 1716.2165802572647, 1719.0407864000292]\n",
            "\r[*********************100%***********************]  1 of 1 completed\n"
          ]
        },
        {
          "output_type": "stream",
          "name": "stderr",
          "text": [
            "INFO:fbprophet:Disabling daily seasonality. Run prophet with daily_seasonality=True to override this.\n"
          ]
        },
        {
          "output_type": "stream",
          "name": "stdout",
          "text": [
            "[1909.6020586116754, 1913.3230244308077, 1917.0439902499397, 1920.7649560690736, 1924.4859218882057, 1928.2068877073377, 1931.9278535264698]\n",
            "ADANITRANS 1.1691333706995364\n",
            "[1909.6020586116754, 1913.3230244308077, 1917.0439902499397, 1920.7649560690736, 1924.4859218882057, 1928.2068877073377, 1931.9278535264698]\n",
            "\r[*********************100%***********************]  1 of 1 completed\n"
          ]
        },
        {
          "output_type": "stream",
          "name": "stderr",
          "text": [
            "INFO:fbprophet:Disabling daily seasonality. Run prophet with daily_seasonality=True to override this.\n"
          ]
        },
        {
          "output_type": "stream",
          "name": "stdout",
          "text": [
            "[117.54227726086945, 117.56771396395308, 117.59315066703674, 117.61858737012038, 117.64402407320402, 117.66946077628765, 117.69489747937128]\n",
            "ABCAPITAL 0.12984282937032368\n",
            "[117.54227726086945, 117.56771396395308, 117.59315066703674, 117.61858737012038, 117.64402407320402, 117.66946077628765, 117.69489747937128]\n",
            "\r[*********************100%***********************]  1 of 1 completed\n"
          ]
        },
        {
          "output_type": "stream",
          "name": "stderr",
          "text": [
            "INFO:fbprophet:Disabling daily seasonality. Run prophet with daily_seasonality=True to override this.\n"
          ]
        },
        {
          "output_type": "stream",
          "name": "stdout",
          "text": [
            "[264.5312204219311, 264.8124734949139, 265.09372656789697, 265.37497964087987, 265.65623271386283, 265.9374857868456, 266.2187388598287]\n",
            "ABFRL 0.6379278919161196\n",
            "[264.5312204219311, 264.8124734949139, 265.09372656789697, 265.37497964087987, 265.65623271386283, 265.9374857868456, 266.2187388598287]\n",
            "\r[*********************100%***********************]  1 of 1 completed\n"
          ]
        },
        {
          "output_type": "stream",
          "name": "stderr",
          "text": [
            "INFO:fbprophet:Disabling daily seasonality. Run prophet with daily_seasonality=True to override this.\n"
          ]
        },
        {
          "output_type": "stream",
          "name": "stdout",
          "text": [
            "[393.2007578578005, 393.2949362046722, 393.38911455154386, 393.48329289841547, 393.5774712452872, 393.6716495921589, 393.7658279390306]\n",
            "ADVENZYMES 0.14371032352751595\n",
            "[393.2007578578005, 393.2949362046722, 393.38911455154386, 393.48329289841547, 393.5774712452872, 393.6716495921589, 393.7658279390306]\n",
            "\r[*********************100%***********************]  1 of 1 completed\n"
          ]
        },
        {
          "output_type": "stream",
          "name": "stderr",
          "text": [
            "INFO:fbprophet:Disabling daily seasonality. Run prophet with daily_seasonality=True to override this.\n"
          ]
        },
        {
          "output_type": "stream",
          "name": "stdout",
          "text": [
            "[301.10789396722663, 301.2761137419481, 301.44433351666976, 301.61255329139135, 301.780773066113, 301.9489928408346, 302.1172126155561]\n",
            "AEGISCHEM 0.3352016564664871\n",
            "[301.10789396722663, 301.2761137419481, 301.44433351666976, 301.61255329139135, 301.780773066113, 301.9489928408346, 302.1172126155561]\n",
            "\r[*********************100%***********************]  1 of 1 completed"
          ]
        },
        {
          "output_type": "stream",
          "name": "stderr",
          "text": [
            "INFO:fbprophet:Disabling daily seasonality. Run prophet with daily_seasonality=True to override this.\n"
          ]
        },
        {
          "output_type": "stream",
          "name": "stdout",
          "text": [
            "\n",
            "[1070.3647933586, 1070.541286179361, 1070.7177790001215, 1070.894271820882, 1071.0707646416429, 1071.2472574624037, 1071.4237502831645]\n",
            "AFFLE 0.0989342073968654\n",
            "[1070.3647933586, 1070.541286179361, 1070.7177790001215, 1070.894271820882, 1071.0707646416429, 1071.2472574624037, 1071.4237502831645]\n",
            "[*********************100%***********************]  1 of 1 completed\n"
          ]
        },
        {
          "output_type": "stream",
          "name": "stderr",
          "text": [
            "INFO:fbprophet:Disabling daily seasonality. Run prophet with daily_seasonality=True to override this.\n"
          ]
        },
        {
          "output_type": "stream",
          "name": "stdout",
          "text": [
            "[2289.509264430679, 2291.072202361937, 2292.635140293195, 2294.198078224453, 2295.7610161557113, 2297.3239540869686, 2298.8868920182267]\n",
            "AJANTPHARM 0.4095911614439092\n",
            "[2289.509264430679, 2291.072202361937, 2292.635140293195, 2294.198078224453, 2295.7610161557113, 2297.3239540869686, 2298.8868920182267]\n",
            "\r[*********************100%***********************]  1 of 1 completed\n"
          ]
        },
        {
          "output_type": "stream",
          "name": "stderr",
          "text": [
            "INFO:fbprophet:Disabling daily seasonality. Run prophet with daily_seasonality=True to override this.\n"
          ]
        },
        {
          "output_type": "stream",
          "name": "stdout",
          "text": [
            "[122.4983470406296, 122.55714202013324, 122.61593699963696, 122.67473197914067, 122.73352695864439, 122.79232193814805, 122.85111691765177]\n",
            "ALEMBICLTD 0.28797929567585445\n",
            "[122.4983470406296, 122.55714202013324, 122.61593699963696, 122.67473197914067, 122.73352695864439, 122.79232193814805, 122.85111691765177]\n",
            "\r[*********************100%***********************]  1 of 1 completed\n"
          ]
        },
        {
          "output_type": "stream",
          "name": "stderr",
          "text": [
            "INFO:fbprophet:Disabling daily seasonality. Run prophet with daily_seasonality=True to override this.\n"
          ]
        },
        {
          "output_type": "stream",
          "name": "stdout",
          "text": [
            "[795.5012632025334, 795.0402768220448, 794.5792904415562, 794.1183040610675, 793.657317680579, 793.1963313000904, 792.7353449196017]\n",
            "APLLTD -0.3476950208471881\n",
            "[795.5012632025334, 795.0402768220448, 794.5792904415562, 794.1183040610675, 793.657317680579, 793.1963313000904, 792.7353449196017]\n",
            "\r[*********************100%***********************]  1 of 1 completed\n"
          ]
        },
        {
          "output_type": "stream",
          "name": "stderr",
          "text": [
            "INFO:fbprophet:Disabling daily seasonality. Run prophet with daily_seasonality=True to override this.\n"
          ]
        },
        {
          "output_type": "stream",
          "name": "stdout",
          "text": [
            "[3729.2929338133868, 3731.7485124730206, 3734.204091132655, 3736.659669792288, 3739.115248451922, 3741.5708271115554, 3744.02640577119]\n",
            "ALKEM 0.39507413923469203\n",
            "[3729.2929338133868, 3731.7485124730206, 3734.204091132655, 3736.659669792288, 3739.115248451922, 3741.5708271115554, 3744.02640577119]\n",
            "\r[*********************100%***********************]  1 of 1 completed\n"
          ]
        },
        {
          "output_type": "stream",
          "name": "stderr",
          "text": [
            "INFO:fbprophet:Disabling daily seasonality. Run prophet with daily_seasonality=True to override this.\n"
          ]
        },
        {
          "output_type": "stream",
          "name": "stdout",
          "text": [
            "[4325.3260595902975, 4331.855321564141, 4338.384583537992, 4344.913845511842, 4351.443107485689, 4357.972369459536, 4364.501631433385]\n",
            "ALKYLAMINE 0.9057252864492369\n",
            "[4325.3260595902975, 4331.855321564141, 4338.384583537992, 4344.913845511842, 4351.443107485689, 4357.972369459536, 4364.501631433385]\n",
            "\r[*********************100%***********************]  1 of 1 completed\n"
          ]
        },
        {
          "output_type": "stream",
          "name": "stderr",
          "text": [
            "INFO:fbprophet:Disabling daily seasonality. Run prophet with daily_seasonality=True to override this.\n"
          ]
        },
        {
          "output_type": "stream",
          "name": "stdout",
          "text": [
            "[20.749700733890446, 20.736840433497576, 20.723980133104693, 20.71111983271182, 20.698259532318936, 20.685399231926066, 20.672538931533182]\n",
            "ALOKINDS -0.37186947101957635\n",
            "[20.749700733890446, 20.736840433497576, 20.723980133104693, 20.71111983271182, 20.698259532318936, 20.685399231926066, 20.672538931533182]\n",
            "[*********************100%***********************]  1 of 1 completed"
          ]
        },
        {
          "output_type": "stream",
          "name": "stderr",
          "text": [
            "INFO:fbprophet:Disabling daily seasonality. Run prophet with daily_seasonality=True to override this.\n"
          ]
        },
        {
          "output_type": "stream",
          "name": "stdout",
          "text": [
            "\n",
            "[747.9295434052121, 747.8480247905769, 747.7665061759417, 747.6849875613065, 747.6034689466711, 747.521950332036, 747.4404317174007]\n",
            "AMARAJABAT -0.06539542288764719\n",
            "[747.9295434052121, 747.8480247905769, 747.7665061759417, 747.6849875613065, 747.6034689466711, 747.521950332036, 747.4404317174007]\n",
            "[*********************100%***********************]  1 of 1 completed\n"
          ]
        },
        {
          "output_type": "stream",
          "name": "stderr",
          "text": [
            "INFO:fbprophet:Disabling daily seasonality. Run prophet with daily_seasonality=True to override this.\n"
          ]
        },
        {
          "output_type": "stream",
          "name": "stdout",
          "text": [
            "[3359.0751371169035, 3360.4322136016876, 3361.7892900864717, 3363.146366571256, 3364.5034430560404, 3365.860519540824, 3367.217596025608]\n",
            "AMBER 0.24240180931746855\n",
            "[3359.0751371169035, 3360.4322136016876, 3361.7892900864717, 3363.146366571256, 3364.5034430560404, 3365.860519540824, 3367.217596025608]\n",
            "\r[*********************100%***********************]  1 of 1 completed\n"
          ]
        },
        {
          "output_type": "stream",
          "name": "stderr",
          "text": [
            "INFO:fbprophet:Disabling daily seasonality. Run prophet with daily_seasonality=True to override this.\n"
          ]
        },
        {
          "output_type": "stream",
          "name": "stdout",
          "text": [
            "[430.1624079480376, 430.6076643677747, 431.05292078751216, 431.4981772072497, 431.94343362698714, 432.38869004672426, 432.8339464664617]\n",
            "AMBUJACEM 0.6210534600566159\n",
            "[430.1624079480376, 430.6076643677747, 431.05292078751216, 431.4981772072497, 431.94343362698714, 432.38869004672426, 432.8339464664617]\n",
            "\r[*********************100%***********************]  1 of 1 completed\n"
          ]
        },
        {
          "output_type": "stream",
          "name": "stderr",
          "text": [
            "INFO:fbprophet:Disabling yearly seasonality. Run prophet with yearly_seasonality=True to override this.\n",
            "INFO:fbprophet:Disabling daily seasonality. Run prophet with daily_seasonality=True to override this.\n"
          ]
        },
        {
          "output_type": "stream",
          "name": "stdout",
          "text": [
            "[1125.3879780581135, 1123.3948998212816, 1121.4018215844492, 1119.4087433476172, 1117.415665110785, 1115.4225868739532, 1113.429508637121]\n",
            "ANGELONE -1.0626085984699398\n",
            "[1125.3879780581135, 1123.3948998212816, 1121.4018215844492, 1119.4087433476172, 1117.415665110785, 1115.4225868739532, 1113.429508637121]\n",
            "\r[*********************100%***********************]  1 of 1 completed"
          ]
        },
        {
          "output_type": "stream",
          "name": "stderr",
          "text": [
            "INFO:fbprophet:Disabling yearly seasonality. Run prophet with yearly_seasonality=True to override this.\n",
            "INFO:fbprophet:Disabling daily seasonality. Run prophet with daily_seasonality=True to override this.\n"
          ]
        },
        {
          "output_type": "stream",
          "name": "stdout",
          "text": [
            "\n",
            "[878.6926343128707, 879.7746322031998, 880.856630093529, 881.9386279838582, 883.0206258741873, 884.1026237645165, 885.1846216548456]\n",
            "ANURAS 0.7388234620916748\n",
            "[878.6926343128707, 879.7746322031998, 880.856630093529, 881.9386279838582, 883.0206258741873, 884.1026237645165, 885.1846216548456]\n",
            "[*********************100%***********************]  1 of 1 completed\n"
          ]
        },
        {
          "output_type": "stream",
          "name": "stderr",
          "text": [
            "INFO:fbprophet:Disabling daily seasonality. Run prophet with daily_seasonality=True to override this.\n"
          ]
        },
        {
          "output_type": "stream",
          "name": "stdout",
          "text": [
            "[5188.394935403093, 5195.6065307189265, 5202.818126034765, 5210.029721350604, 5217.241316666443, 5224.452911982276, 5231.6645072981155]\n",
            "APOLLOHOSP 0.8339683550257913\n",
            "[5188.394935403093, 5195.6065307189265, 5202.818126034765, 5210.029721350604, 5217.241316666443, 5224.452911982276, 5231.6645072981155]\n",
            "[*********************100%***********************]  1 of 1 completed"
          ]
        },
        {
          "output_type": "stream",
          "name": "stderr",
          "text": [
            "INFO:fbprophet:Disabling daily seasonality. Run prophet with daily_seasonality=True to override this.\n"
          ]
        },
        {
          "output_type": "stream",
          "name": "stdout",
          "text": [
            "\n",
            "[263.35784807293106, 263.59752535088444, 263.8372026288381, 264.07687990679176, 264.31655718474525, 264.5562344626988, 264.7959117406523]\n",
            "APOLLOTYRE 0.5460492930983337\n",
            "[263.35784807293106, 263.59752535088444, 263.8372026288381, 264.07687990679176, 264.31655718474525, 264.5562344626988, 264.7959117406523]\n",
            "[*********************100%***********************]  1 of 1 completed"
          ]
        },
        {
          "output_type": "stream",
          "name": "stderr",
          "text": [
            "INFO:fbprophet:Disabling daily seasonality. Run prophet with daily_seasonality=True to override this.\n"
          ]
        },
        {
          "output_type": "stream",
          "name": "stdout",
          "text": [
            "\n"
          ]
        }
      ]
    },
    {
      "cell_type": "code",
      "source": [
        "import operator\n",
        "result\n",
        "a1_sorted_keys = sorted(result, key=result.get, reverse=True)\n",
        "for r in a1_sorted_keys:\n",
        "    print(r, result[r])"
      ],
      "metadata": {
        "colab": {
          "base_uri": "https://localhost:8080/"
        },
        "id": "pqjb5ixmEUmg",
        "outputId": "4f00dd2e-96ff-4195-a75e-7de348837aae"
      },
      "execution_count": 64,
      "outputs": [
        {
          "output_type": "stream",
          "name": "stdout",
          "text": [
            "TATASTEEL 0.9081237563097616\n",
            "TATAMOTORS 0.8908594538332001\n",
            "BAJAJFINSV 0.8639870146267455\n",
            "HINDALCO 0.8210550179745533\n",
            "JSWSTEEL 0.8060014644605991\n",
            "SBIN 0.7686413641811818\n",
            "WIPRO 0.7394638419999462\n",
            "TECHM 0.6909125362938738\n",
            "ADANIPORTS 0.68022037858219\n",
            "BAJFINANCE 0.6798674806726178\n",
            "TITAN 0.6597489745584101\n",
            "ONGC 0.6238779832401193\n",
            "ICICIBANK 0.6140851575289625\n",
            "LT 0.6079574648815089\n",
            "ULTRACEMCO 0.5988126352875083\n",
            "INFY 0.59051802462998\n",
            "INDUSINDBK 0.5898502205652746\n",
            "UPL 0.5659579492099612\n",
            "TATACONSUM 0.5582208790197061\n",
            "DIVISLAB 0.5427660881548918\n",
            "ASIANPAINT 0.5245249693960399\n",
            "HCLTECH 0.5000801390987667\n",
            "SUNPHARMA 0.4923818258391894\n",
            "AXISBANK 0.4817216375142615\n",
            "SBILIFE 0.4593256234048129\n",
            "TCS 0.444126069528354\n",
            "POWERGRID 0.4413252497360135\n",
            "IOC 0.43318581684099094\n",
            "NTPC 0.4257790072397994\n",
            "HDFC 0.41053439931419783\n",
            "M&M 0.3988830206875994\n",
            "HDFCBANK 0.3498952714382843\n",
            "KOTAKBANK 0.3275150933330512\n",
            "BHARTIARTL 0.32647231137350374\n",
            "EICHERMOT 0.3199429874594764\n",
            "SHREECEM 0.3159609496915834\n",
            "CIPLA 0.3051581679261301\n",
            "COALINDIA 0.3030989575156442\n",
            "BAJAJ-AUTO 0.2925623344441703\n",
            "RELIANCE 0.24072477189119929\n",
            "ITC 0.22754590558615706\n",
            "HINDUNILVR 0.17620207695917064\n",
            "NESTLEIND 0.1752924302023035\n",
            "BPCL 0.1504417910651782\n",
            "MARUTI 0.1424494148530777\n",
            "DRREDDY 0.07061978126608472\n",
            "BRITANNIA 0.02536456494446543\n",
            "HDFCLIFE -0.10305524898340401\n",
            "HEROMOTOCO -0.10740557073743442\n"
          ]
        }
      ]
    },
    {
      "cell_type": "code",
      "source": [
        "cal_percentage(forecasted)"
      ],
      "metadata": {
        "colab": {
          "base_uri": "https://localhost:8080/"
        },
        "id": "fnmTSD85KpiN",
        "outputId": "e20d0853-1efb-48cb-a70e-5d444d67435f"
      },
      "execution_count": 67,
      "outputs": [
        {
          "output_type": "stream",
          "name": "stdout",
          "text": [
            "[18047.108099312358, 18073.095544394637, 18099.082989476927, 18125.070434559213, 18151.0578796415, 18177.04532472377, 18203.03276980607]\n"
          ]
        },
        {
          "output_type": "execute_result",
          "data": {
            "text/plain": [
              "0.8639870146267455"
            ]
          },
          "metadata": {},
          "execution_count": 67
        }
      ]
    }
  ]
}